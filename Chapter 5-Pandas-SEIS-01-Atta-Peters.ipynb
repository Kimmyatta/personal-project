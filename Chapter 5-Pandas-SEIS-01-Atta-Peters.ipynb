{
 "cells": [
  {
   "cell_type": "code",
   "execution_count": 42,
   "id": "b8e8a93b-e97b-48d3-9c5e-bc8322dec315",
   "metadata": {},
   "outputs": [],
   "source": [
    "import pandas as pd\n",
    "import numpy as np"
   ]
  },
  {
   "cell_type": "code",
   "execution_count": 52,
   "id": "5e6a8136-0d30-467e-8810-b7826fc65be7",
   "metadata": {},
   "outputs": [
    {
     "name": "stdout",
     "output_type": "stream",
     "text": [
      "     Name  Age  Salary\n",
      "0   Timmy   24      80\n",
      "1     Jim   32      87\n",
      "2  Nickki   26      92\n",
      "3    Adam   22     999\n",
      "4     Ali  999     101\n"
     ]
    }
   ],
   "source": [
    "#List 1\n",
    "Name = ['Timmy', 'Jim', 'Nickki', 'Adam', 'Ali', 'Reza']\n",
    "\n",
    "#List 2\n",
    "Age = [24,32,26,22]\n",
    "\n",
    "#List 3\n",
    "Salary = [80,87,92,\"\",101]\n",
    "\n",
    "#The number of rows should be five\n",
    "n = 5\n",
    "\n",
    "#Use the first 5 elements of list1 (names). slice to the first 5 names\n",
    "Name = Name[:5]\n",
    "\n",
    "#Fill the remaining of list2 if it has fewer than n values\n",
    "if len(Age) < 5:\n",
    "    Age = Age + [999]* (5-len(Age))\n",
    "else:\n",
    "    Age = Age[:5]\n",
    "\n",
    "#For salaries, slice to the first 5 elements and replace any missing value with 999.\n",
    "Salary = Salary[:5]\n",
    "Salary = [int(s) if s != \"\" else 999 for s in Salary]\n",
    "\n",
    "#Create the DataFrame\n",
    "df = pd.DataFrame({\n",
    "    'Name': Name,\n",
    "    'Age': Age,\n",
    "    'Salary': Salary\n",
    "})\n",
    "\n",
    "print(df)"
   ]
  },
  {
   "cell_type": "code",
   "execution_count": null,
   "id": "f267773a-1528-4099-a76c-61c223f8dcc1",
   "metadata": {},
   "outputs": [],
   "source": []
  }
 ],
 "metadata": {
  "kernelspec": {
   "display_name": "Python [conda env:base] *",
   "language": "python",
   "name": "conda-base-py"
  },
  "language_info": {
   "codemirror_mode": {
    "name": "ipython",
    "version": 3
   },
   "file_extension": ".py",
   "mimetype": "text/x-python",
   "name": "python",
   "nbconvert_exporter": "python",
   "pygments_lexer": "ipython3",
   "version": "3.12.4"
  }
 },
 "nbformat": 4,
 "nbformat_minor": 5
}
